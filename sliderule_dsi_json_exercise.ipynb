{
 "cells": [
  {
   "cell_type": "markdown",
   "metadata": {},
   "source": [
    "# JSON examples and exercise\n",
    "****\n",
    "+ get familiar with packages for dealing with JSON\n",
    "+ study examples with JSON strings and files \n",
    "+ work on exercise to be completed and submitted \n",
    "****\n",
    "+ reference: http://pandas.pydata.org/pandas-docs/stable/io.html#io-json-reader\n",
    "****"
   ]
  },
  {
   "cell_type": "code",
   "execution_count": 1,
   "metadata": {},
   "outputs": [],
   "source": [
    "import pandas as pd"
   ]
  },
  {
   "cell_type": "markdown",
   "metadata": {},
   "source": [
    "## imports for Python, Pandas"
   ]
  },
  {
   "cell_type": "code",
   "execution_count": 2,
   "metadata": {},
   "outputs": [],
   "source": [
    "import json\n",
    "from pandas.io.json import json_normalize"
   ]
  },
  {
   "cell_type": "markdown",
   "metadata": {},
   "source": [
    "## JSON example, with string\n",
    "\n",
    "+ demonstrates creation of normalized dataframes (tables) from nested json string\n",
    "+ source: http://pandas.pydata.org/pandas-docs/stable/io.html#normalization"
   ]
  },
  {
   "cell_type": "code",
   "execution_count": 3,
   "metadata": {},
   "outputs": [],
   "source": [
    "# define json string\n",
    "data = [{'state': 'Florida', \n",
    "         'shortname': 'FL',\n",
    "         'info': {'governor': 'Rick Scott'},\n",
    "         'counties': [{'name': 'Dade', 'population': 12345},\n",
    "                      {'name': 'Broward', 'population': 40000},\n",
    "                      {'name': 'Palm Beach', 'population': 60000}]},\n",
    "        {'state': 'Ohio',\n",
    "         'shortname': 'OH',\n",
    "         'info': {'governor': 'John Kasich'},\n",
    "         'counties': [{'name': 'Summit', 'population': 1234},\n",
    "                      {'name': 'Cuyahoga', 'population': 1337}]}]"
   ]
  },
  {
   "cell_type": "code",
   "execution_count": 4,
   "metadata": {},
   "outputs": [
    {
     "data": {
      "text/plain": [
       "list"
      ]
     },
     "execution_count": 4,
     "metadata": {},
     "output_type": "execute_result"
    }
   ],
   "source": [
    "type(data)"
   ]
  },
  {
   "cell_type": "code",
   "execution_count": 5,
   "metadata": {},
   "outputs": [
    {
     "data": {
      "text/html": [
       "<div>\n",
       "<style scoped>\n",
       "    .dataframe tbody tr th:only-of-type {\n",
       "        vertical-align: middle;\n",
       "    }\n",
       "\n",
       "    .dataframe tbody tr th {\n",
       "        vertical-align: top;\n",
       "    }\n",
       "\n",
       "    .dataframe thead th {\n",
       "        text-align: right;\n",
       "    }\n",
       "</style>\n",
       "<table border=\"1\" class=\"dataframe\">\n",
       "  <thead>\n",
       "    <tr style=\"text-align: right;\">\n",
       "      <th></th>\n",
       "      <th>name</th>\n",
       "      <th>population</th>\n",
       "    </tr>\n",
       "  </thead>\n",
       "  <tbody>\n",
       "    <tr>\n",
       "      <td>0</td>\n",
       "      <td>Dade</td>\n",
       "      <td>12345</td>\n",
       "    </tr>\n",
       "    <tr>\n",
       "      <td>1</td>\n",
       "      <td>Broward</td>\n",
       "      <td>40000</td>\n",
       "    </tr>\n",
       "    <tr>\n",
       "      <td>2</td>\n",
       "      <td>Palm Beach</td>\n",
       "      <td>60000</td>\n",
       "    </tr>\n",
       "    <tr>\n",
       "      <td>3</td>\n",
       "      <td>Summit</td>\n",
       "      <td>1234</td>\n",
       "    </tr>\n",
       "    <tr>\n",
       "      <td>4</td>\n",
       "      <td>Cuyahoga</td>\n",
       "      <td>1337</td>\n",
       "    </tr>\n",
       "  </tbody>\n",
       "</table>\n",
       "</div>"
      ],
      "text/plain": [
       "         name  population\n",
       "0        Dade       12345\n",
       "1     Broward       40000\n",
       "2  Palm Beach       60000\n",
       "3      Summit        1234\n",
       "4    Cuyahoga        1337"
      ]
     },
     "execution_count": 5,
     "metadata": {},
     "output_type": "execute_result"
    }
   ],
   "source": [
    "# use normalization to create tables from nested element\n",
    "json_normalize(data, 'counties')"
   ]
  },
  {
   "cell_type": "code",
   "execution_count": 6,
   "metadata": {},
   "outputs": [
    {
     "data": {
      "text/html": [
       "<div>\n",
       "<style scoped>\n",
       "    .dataframe tbody tr th:only-of-type {\n",
       "        vertical-align: middle;\n",
       "    }\n",
       "\n",
       "    .dataframe tbody tr th {\n",
       "        vertical-align: top;\n",
       "    }\n",
       "\n",
       "    .dataframe thead th {\n",
       "        text-align: right;\n",
       "    }\n",
       "</style>\n",
       "<table border=\"1\" class=\"dataframe\">\n",
       "  <thead>\n",
       "    <tr style=\"text-align: right;\">\n",
       "      <th></th>\n",
       "      <th>name</th>\n",
       "      <th>population</th>\n",
       "      <th>state</th>\n",
       "      <th>shortname</th>\n",
       "      <th>info.governor</th>\n",
       "    </tr>\n",
       "  </thead>\n",
       "  <tbody>\n",
       "    <tr>\n",
       "      <td>0</td>\n",
       "      <td>Dade</td>\n",
       "      <td>12345</td>\n",
       "      <td>Florida</td>\n",
       "      <td>FL</td>\n",
       "      <td>Rick Scott</td>\n",
       "    </tr>\n",
       "    <tr>\n",
       "      <td>1</td>\n",
       "      <td>Broward</td>\n",
       "      <td>40000</td>\n",
       "      <td>Florida</td>\n",
       "      <td>FL</td>\n",
       "      <td>Rick Scott</td>\n",
       "    </tr>\n",
       "    <tr>\n",
       "      <td>2</td>\n",
       "      <td>Palm Beach</td>\n",
       "      <td>60000</td>\n",
       "      <td>Florida</td>\n",
       "      <td>FL</td>\n",
       "      <td>Rick Scott</td>\n",
       "    </tr>\n",
       "    <tr>\n",
       "      <td>3</td>\n",
       "      <td>Summit</td>\n",
       "      <td>1234</td>\n",
       "      <td>Ohio</td>\n",
       "      <td>OH</td>\n",
       "      <td>John Kasich</td>\n",
       "    </tr>\n",
       "    <tr>\n",
       "      <td>4</td>\n",
       "      <td>Cuyahoga</td>\n",
       "      <td>1337</td>\n",
       "      <td>Ohio</td>\n",
       "      <td>OH</td>\n",
       "      <td>John Kasich</td>\n",
       "    </tr>\n",
       "  </tbody>\n",
       "</table>\n",
       "</div>"
      ],
      "text/plain": [
       "         name  population    state shortname info.governor\n",
       "0        Dade       12345  Florida        FL    Rick Scott\n",
       "1     Broward       40000  Florida        FL    Rick Scott\n",
       "2  Palm Beach       60000  Florida        FL    Rick Scott\n",
       "3      Summit        1234     Ohio        OH   John Kasich\n",
       "4    Cuyahoga        1337     Ohio        OH   John Kasich"
      ]
     },
     "execution_count": 6,
     "metadata": {},
     "output_type": "execute_result"
    }
   ],
   "source": [
    "# further populate tables created from nested element\n",
    "json_normalize(data, 'counties', ['state', 'shortname', ['info', 'governor']])"
   ]
  },
  {
   "cell_type": "markdown",
   "metadata": {},
   "source": [
    "****\n",
    "## JSON example, with file\n",
    "\n",
    "+ demonstrates reading in a json file as a string and as a table\n",
    "+ uses small sample file containing data about projects funded by the World Bank "
   ]
  },
  {
   "cell_type": "code",
   "execution_count": 7,
   "metadata": {},
   "outputs": [
    {
     "data": {
      "text/plain": [
       "[{'_id': {'$oid': '52b213b38594d8a2be17c780'},\n",
       "  'approvalfy': 1999,\n",
       "  'board_approval_month': 'November',\n",
       "  'boardapprovaldate': '2013-11-12T00:00:00Z',\n",
       "  'borrower': 'FEDERAL DEMOCRATIC REPUBLIC OF ETHIOPIA',\n",
       "  'closingdate': '2018-07-07T00:00:00Z',\n",
       "  'country_namecode': 'Federal Democratic Republic of Ethiopia!$!ET',\n",
       "  'countrycode': 'ET',\n",
       "  'countryname': 'Federal Democratic Republic of Ethiopia',\n",
       "  'countryshortname': 'Ethiopia',\n",
       "  'docty': 'Project Information Document,Indigenous Peoples Plan,Project Information Document',\n",
       "  'envassesmentcategorycode': 'C',\n",
       "  'grantamt': 0,\n",
       "  'ibrdcommamt': 0,\n",
       "  'id': 'P129828',\n",
       "  'idacommamt': 130000000,\n",
       "  'impagency': 'MINISTRY OF EDUCATION',\n",
       "  'lendinginstr': 'Investment Project Financing',\n",
       "  'lendinginstrtype': 'IN',\n",
       "  'lendprojectcost': 550000000,\n",
       "  'majorsector_percent': [{'Name': 'Education', 'Percent': 46},\n",
       "   {'Name': 'Education', 'Percent': 26},\n",
       "   {'Name': 'Public Administration, Law, and Justice', 'Percent': 16},\n",
       "   {'Name': 'Education', 'Percent': 12}],\n",
       "  'mjsector_namecode': [{'name': 'Education', 'code': 'EX'},\n",
       "   {'name': 'Education', 'code': 'EX'},\n",
       "   {'name': 'Public Administration, Law, and Justice', 'code': 'BX'},\n",
       "   {'name': 'Education', 'code': 'EX'}],\n",
       "  'mjtheme': ['Human development'],\n",
       "  'mjtheme_namecode': [{'name': 'Human development', 'code': '8'},\n",
       "   {'name': '', 'code': '11'}],\n",
       "  'mjthemecode': '8,11',\n",
       "  'prodline': 'PE',\n",
       "  'prodlinetext': 'IBRD/IDA',\n",
       "  'productlinetype': 'L',\n",
       "  'project_abstract': {'cdata': 'The development objective of the Second Phase of General Education Quality Improvement Project for Ethiopia is to improve learning conditions in primary and secondary schools and strengthen institutions at different levels of educational administration. The project has six components. The first component is curriculum, textbooks, assessment, examinations, and inspection. This component will support improvement of learning conditions in grades KG-12 by providing increased access to teaching and learning materials and through improvements to the curriculum by assessing the strengths and weaknesses of the current curriculum. This component has following four sub-components: (i) curriculum reform and implementation; (ii) teaching and learning materials; (iii) assessment and examinations; and (iv) inspection. The second component is teacher development program (TDP). This component will support improvements in learning conditions in both primary and secondary schools by advancing the quality of teaching in general education through: (a) enhancing the training of pre-service teachers in teacher education institutions; and (b) improving the quality of in-service teacher training. This component has following three sub-components: (i) pre-service teacher training; (ii) in-service teacher training; and (iii) licensing and relicensing of teachers and school leaders. The third component is school improvement plan. This component will support the strengthening of school planning in order to improve learning outcomes, and to partly fund the school improvement plans through school grants. It has following two sub-components: (i) school improvement plan; and (ii) school grants. The fourth component is management and capacity building, including education management information systems (EMIS). This component will support management and capacity building aspect of the project. This component has following three sub-components: (i) capacity building for education planning and management; (ii) capacity building for school planning and management; and (iii) EMIS. The fifth component is improving the quality of learning and teaching in secondary schools and universities through the use of information and communications technology (ICT). It has following five sub-components: (i) national policy and institution for ICT in general education; (ii) national ICT infrastructure improvement plan for general education; (iii) develop an integrated monitoring, evaluation, and learning system specifically for the ICT component; (iv) teacher professional development in the use of ICT; and (v) provision of limited number of e-Braille display readers with the possibility to scale up to all secondary education schools based on the successful implementation and usage of the readers. The sixth component is program coordination, monitoring and evaluation, and communication. It will support institutional strengthening by developing capacities in all aspects of program coordination, monitoring and evaluation; a new sub-component on communications will support information sharing for better management and accountability. It has following three sub-components: (i) program coordination; (ii) monitoring and evaluation (M and E); and (iii) communication.'},\n",
       "  'project_name': 'Ethiopia General Education Quality Improvement Project II',\n",
       "  'projectdocs': [{'DocTypeDesc': 'Project Information Document (PID),  Vol.',\n",
       "    'DocType': 'PID',\n",
       "    'EntityID': '090224b081e545fb_1_0',\n",
       "    'DocURL': 'http://www-wds.worldbank.org/servlet/WDSServlet?pcont=details&eid=090224b081e545fb_1_0',\n",
       "    'DocDate': '28-AUG-2013'},\n",
       "   {'DocTypeDesc': 'Indigenous Peoples Plan (IP),  Vol.1 of 1',\n",
       "    'DocType': 'IP',\n",
       "    'EntityID': '000442464_20130920111729',\n",
       "    'DocURL': 'http://www-wds.worldbank.org/servlet/WDSServlet?pcont=details&eid=000442464_20130920111729',\n",
       "    'DocDate': '01-JUL-2013'},\n",
       "   {'DocTypeDesc': 'Project Information Document (PID),  Vol.',\n",
       "    'DocType': 'PID',\n",
       "    'EntityID': '090224b0817b19e2_1_0',\n",
       "    'DocURL': 'http://www-wds.worldbank.org/servlet/WDSServlet?pcont=details&eid=090224b0817b19e2_1_0',\n",
       "    'DocDate': '22-NOV-2012'}],\n",
       "  'projectfinancialtype': 'IDA',\n",
       "  'projectstatusdisplay': 'Active',\n",
       "  'regionname': 'Africa',\n",
       "  'sector': [{'Name': 'Primary education'},\n",
       "   {'Name': 'Secondary education'},\n",
       "   {'Name': 'Public administration- Other social services'},\n",
       "   {'Name': 'Tertiary education'}],\n",
       "  'sector1': {'Name': 'Primary education', 'Percent': 46},\n",
       "  'sector2': {'Name': 'Secondary education', 'Percent': 26},\n",
       "  'sector3': {'Name': 'Public administration- Other social services',\n",
       "   'Percent': 16},\n",
       "  'sector4': {'Name': 'Tertiary education', 'Percent': 12},\n",
       "  'sector_namecode': [{'name': 'Primary education', 'code': 'EP'},\n",
       "   {'name': 'Secondary education', 'code': 'ES'},\n",
       "   {'name': 'Public administration- Other social services', 'code': 'BS'},\n",
       "   {'name': 'Tertiary education', 'code': 'ET'}],\n",
       "  'sectorcode': 'ET,BS,ES,EP',\n",
       "  'source': 'IBRD',\n",
       "  'status': 'Active',\n",
       "  'supplementprojectflg': 'N',\n",
       "  'theme1': {'Name': 'Education for all', 'Percent': 100},\n",
       "  'theme_namecode': [{'name': 'Education for all', 'code': '65'}],\n",
       "  'themecode': '65',\n",
       "  'totalamt': 130000000,\n",
       "  'totalcommamt': 130000000,\n",
       "  'url': 'http://www.worldbank.org/projects/P129828/ethiopia-general-education-quality-improvement-project-ii?lang=en'},\n",
       " {'_id': {'$oid': '52b213b38594d8a2be17c781'},\n",
       "  'approvalfy': 2015,\n",
       "  'board_approval_month': 'November',\n",
       "  'boardapprovaldate': '2013-11-04T00:00:00Z',\n",
       "  'borrower': 'GOVERNMENT OF TUNISIA',\n",
       "  'country_namecode': 'Republic of Tunisia!$!TN',\n",
       "  'countrycode': 'TN',\n",
       "  'countryname': 'Republic of Tunisia',\n",
       "  'countryshortname': 'Tunisia',\n",
       "  'docty': 'Project Information Document,Integrated Safeguards Data Sheet,Integrated Safeguards Data Sheet,Project Information Document,Integrated Safeguards Data Sheet,Project Information Document',\n",
       "  'envassesmentcategorycode': 'C',\n",
       "  'grantamt': 4700000,\n",
       "  'ibrdcommamt': 0,\n",
       "  'id': 'P144674',\n",
       "  'idacommamt': 0,\n",
       "  'impagency': 'MINISTRY OF FINANCE',\n",
       "  'lendinginstr': 'Specific Investment Loan',\n",
       "  'lendinginstrtype': 'IN',\n",
       "  'lendprojectcost': 5700000,\n",
       "  'majorsector_percent': [{'Name': 'Public Administration, Law, and Justice',\n",
       "    'Percent': 70},\n",
       "   {'Name': 'Public Administration, Law, and Justice', 'Percent': 30}],\n",
       "  'mjsector_namecode': [{'name': 'Public Administration, Law, and Justice',\n",
       "    'code': 'BX'},\n",
       "   {'name': 'Public Administration, Law, and Justice', 'code': 'BX'}],\n",
       "  'mjtheme': ['Economic management', 'Social protection and risk management'],\n",
       "  'mjtheme_namecode': [{'name': 'Economic management', 'code': '1'},\n",
       "   {'name': 'Social protection and risk management', 'code': '6'}],\n",
       "  'mjthemecode': '1,6',\n",
       "  'prodline': 'RE',\n",
       "  'prodlinetext': 'Recipient Executed Activities',\n",
       "  'productlinetype': 'L',\n",
       "  'project_name': 'TN: DTF Social Protection Reforms Support',\n",
       "  'projectdocs': [{'DocTypeDesc': 'Project Information Document (PID),  Vol.1 of 1',\n",
       "    'DocType': 'PID',\n",
       "    'EntityID': '000333037_20131024115616',\n",
       "    'DocURL': 'http://www-wds.worldbank.org/servlet/WDSServlet?pcont=details&eid=000333037_20131024115616',\n",
       "    'DocDate': '29-MAR-2013'},\n",
       "   {'DocTypeDesc': 'Integrated Safeguards Data Sheet (ISDS),  Vol.1 of 1',\n",
       "    'DocType': 'ISDS',\n",
       "    'EntityID': '000356161_20131024151611',\n",
       "    'DocURL': 'http://www-wds.worldbank.org/servlet/WDSServlet?pcont=details&eid=000356161_20131024151611',\n",
       "    'DocDate': '29-MAR-2013'},\n",
       "   {'DocTypeDesc': 'Integrated Safeguards Data Sheet (ISDS),  Vol.1 of 1',\n",
       "    'DocType': 'ISDS',\n",
       "    'EntityID': '000442464_20131031112136',\n",
       "    'DocURL': 'http://www-wds.worldbank.org/servlet/WDSServlet?pcont=details&eid=000442464_20131031112136',\n",
       "    'DocDate': '29-MAR-2013'},\n",
       "   {'DocTypeDesc': 'Project Information Document (PID),  Vol.1 of 1',\n",
       "    'DocType': 'PID',\n",
       "    'EntityID': '000333037_20131031105716',\n",
       "    'DocURL': 'http://www-wds.worldbank.org/servlet/WDSServlet?pcont=details&eid=000333037_20131031105716',\n",
       "    'DocDate': '29-MAR-2013'},\n",
       "   {'DocTypeDesc': 'Integrated Safeguards Data Sheet (ISDS),  Vol.1 of 1',\n",
       "    'DocType': 'ISDS',\n",
       "    'EntityID': '000356161_20130305113209',\n",
       "    'DocURL': 'http://www-wds.worldbank.org/servlet/WDSServlet?pcont=details&eid=000356161_20130305113209',\n",
       "    'DocDate': '16-JAN-2013'},\n",
       "   {'DocTypeDesc': 'Project Information Document (PID),  Vol.1 of 1',\n",
       "    'DocType': 'PID',\n",
       "    'EntityID': '000356161_20130305113716',\n",
       "    'DocURL': 'http://www-wds.worldbank.org/servlet/WDSServlet?pcont=details&eid=000356161_20130305113716',\n",
       "    'DocDate': '16-JAN-2013'}],\n",
       "  'projectfinancialtype': 'OTHER',\n",
       "  'projectstatusdisplay': 'Active',\n",
       "  'regionname': 'Middle East and North Africa',\n",
       "  'sector': [{'Name': 'Public administration- Other social services'},\n",
       "   {'Name': 'General public administration sector'}],\n",
       "  'sector1': {'Name': 'Public administration- Other social services',\n",
       "   'Percent': 70},\n",
       "  'sector2': {'Name': 'General public administration sector', 'Percent': 30},\n",
       "  'sector_namecode': [{'name': 'Public administration- Other social services',\n",
       "    'code': 'BS'},\n",
       "   {'name': 'General public administration sector', 'code': 'BZ'}],\n",
       "  'sectorcode': 'BZ,BS',\n",
       "  'source': 'IBRD',\n",
       "  'status': 'Active',\n",
       "  'supplementprojectflg': 'N',\n",
       "  'theme1': {'Name': 'Other economic management', 'Percent': 30},\n",
       "  'theme_namecode': [{'name': 'Other economic management', 'code': '24'},\n",
       "   {'name': 'Social safety nets', 'code': '54'}],\n",
       "  'themecode': '54,24',\n",
       "  'totalamt': 0,\n",
       "  'totalcommamt': 4700000,\n",
       "  'url': 'http://www.worldbank.org/projects/P144674?lang=en'}]"
      ]
     },
     "execution_count": 7,
     "metadata": {},
     "output_type": "execute_result"
    }
   ],
   "source": [
    "# load json as string\n",
    "json.load((open('data/world_bank_projects_less.json')))"
   ]
  },
  {
   "cell_type": "code",
   "execution_count": 8,
   "metadata": {},
   "outputs": [
    {
     "data": {
      "text/html": [
       "<div>\n",
       "<style scoped>\n",
       "    .dataframe tbody tr th:only-of-type {\n",
       "        vertical-align: middle;\n",
       "    }\n",
       "\n",
       "    .dataframe tbody tr th {\n",
       "        vertical-align: top;\n",
       "    }\n",
       "\n",
       "    .dataframe thead th {\n",
       "        text-align: right;\n",
       "    }\n",
       "</style>\n",
       "<table border=\"1\" class=\"dataframe\">\n",
       "  <thead>\n",
       "    <tr style=\"text-align: right;\">\n",
       "      <th></th>\n",
       "      <th>_id</th>\n",
       "      <th>approvalfy</th>\n",
       "      <th>board_approval_month</th>\n",
       "      <th>boardapprovaldate</th>\n",
       "      <th>borrower</th>\n",
       "      <th>closingdate</th>\n",
       "      <th>country_namecode</th>\n",
       "      <th>countrycode</th>\n",
       "      <th>countryname</th>\n",
       "      <th>countryshortname</th>\n",
       "      <th>...</th>\n",
       "      <th>sectorcode</th>\n",
       "      <th>source</th>\n",
       "      <th>status</th>\n",
       "      <th>supplementprojectflg</th>\n",
       "      <th>theme1</th>\n",
       "      <th>theme_namecode</th>\n",
       "      <th>themecode</th>\n",
       "      <th>totalamt</th>\n",
       "      <th>totalcommamt</th>\n",
       "      <th>url</th>\n",
       "    </tr>\n",
       "  </thead>\n",
       "  <tbody>\n",
       "    <tr>\n",
       "      <td>0</td>\n",
       "      <td>{'$oid': '52b213b38594d8a2be17c780'}</td>\n",
       "      <td>1999</td>\n",
       "      <td>November</td>\n",
       "      <td>2013-11-12T00:00:00Z</td>\n",
       "      <td>FEDERAL DEMOCRATIC REPUBLIC OF ETHIOPIA</td>\n",
       "      <td>2018-07-07T00:00:00Z</td>\n",
       "      <td>Federal Democratic Republic of Ethiopia!$!ET</td>\n",
       "      <td>ET</td>\n",
       "      <td>Federal Democratic Republic of Ethiopia</td>\n",
       "      <td>Ethiopia</td>\n",
       "      <td>...</td>\n",
       "      <td>ET,BS,ES,EP</td>\n",
       "      <td>IBRD</td>\n",
       "      <td>Active</td>\n",
       "      <td>N</td>\n",
       "      <td>{'Name': 'Education for all', 'Percent': 100}</td>\n",
       "      <td>[{'name': 'Education for all', 'code': '65'}]</td>\n",
       "      <td>65</td>\n",
       "      <td>130000000</td>\n",
       "      <td>130000000</td>\n",
       "      <td>http://www.worldbank.org/projects/P129828/ethi...</td>\n",
       "    </tr>\n",
       "    <tr>\n",
       "      <td>1</td>\n",
       "      <td>{'$oid': '52b213b38594d8a2be17c781'}</td>\n",
       "      <td>2015</td>\n",
       "      <td>November</td>\n",
       "      <td>2013-11-04T00:00:00Z</td>\n",
       "      <td>GOVERNMENT OF TUNISIA</td>\n",
       "      <td>NaN</td>\n",
       "      <td>Republic of Tunisia!$!TN</td>\n",
       "      <td>TN</td>\n",
       "      <td>Republic of Tunisia</td>\n",
       "      <td>Tunisia</td>\n",
       "      <td>...</td>\n",
       "      <td>BZ,BS</td>\n",
       "      <td>IBRD</td>\n",
       "      <td>Active</td>\n",
       "      <td>N</td>\n",
       "      <td>{'Name': 'Other economic management', 'Percent...</td>\n",
       "      <td>[{'name': 'Other economic management', 'code':...</td>\n",
       "      <td>54,24</td>\n",
       "      <td>0</td>\n",
       "      <td>4700000</td>\n",
       "      <td>http://www.worldbank.org/projects/P144674?lang=en</td>\n",
       "    </tr>\n",
       "  </tbody>\n",
       "</table>\n",
       "<p>2 rows × 50 columns</p>\n",
       "</div>"
      ],
      "text/plain": [
       "                                    _id  approvalfy board_approval_month  \\\n",
       "0  {'$oid': '52b213b38594d8a2be17c780'}        1999             November   \n",
       "1  {'$oid': '52b213b38594d8a2be17c781'}        2015             November   \n",
       "\n",
       "      boardapprovaldate                                 borrower  \\\n",
       "0  2013-11-12T00:00:00Z  FEDERAL DEMOCRATIC REPUBLIC OF ETHIOPIA   \n",
       "1  2013-11-04T00:00:00Z                    GOVERNMENT OF TUNISIA   \n",
       "\n",
       "            closingdate                              country_namecode  \\\n",
       "0  2018-07-07T00:00:00Z  Federal Democratic Republic of Ethiopia!$!ET   \n",
       "1                   NaN                      Republic of Tunisia!$!TN   \n",
       "\n",
       "  countrycode                              countryname countryshortname  ...  \\\n",
       "0          ET  Federal Democratic Republic of Ethiopia         Ethiopia  ...   \n",
       "1          TN                      Republic of Tunisia          Tunisia  ...   \n",
       "\n",
       "    sectorcode source  status  supplementprojectflg  \\\n",
       "0  ET,BS,ES,EP   IBRD  Active                     N   \n",
       "1        BZ,BS   IBRD  Active                     N   \n",
       "\n",
       "                                              theme1  \\\n",
       "0      {'Name': 'Education for all', 'Percent': 100}   \n",
       "1  {'Name': 'Other economic management', 'Percent...   \n",
       "\n",
       "                                      theme_namecode themecode   totalamt  \\\n",
       "0      [{'name': 'Education for all', 'code': '65'}]        65  130000000   \n",
       "1  [{'name': 'Other economic management', 'code':...     54,24          0   \n",
       "\n",
       "  totalcommamt                                                url  \n",
       "0    130000000  http://www.worldbank.org/projects/P129828/ethi...  \n",
       "1      4700000  http://www.worldbank.org/projects/P144674?lang=en  \n",
       "\n",
       "[2 rows x 50 columns]"
      ]
     },
     "execution_count": 8,
     "metadata": {},
     "output_type": "execute_result"
    }
   ],
   "source": [
    "# load as Pandas dataframe\n",
    "sample_json_df = pd.read_json('data/world_bank_projects_less.json')\n",
    "sample_json_df"
   ]
  },
  {
   "cell_type": "markdown",
   "metadata": {},
   "source": [
    "****\n",
    "## JSON exercise\n",
    "\n",
    "Using data in file 'data/world_bank_projects.json' and the techniques demonstrated above,\n",
    "1. Find the 10 countries with most projects\n",
    "2. Find the top 10 major project themes (using column 'mjtheme_namecode')\n",
    "3. In 2. above you will notice that some entries have only the code and the name is missing. Create a dataframe with the missing names filled in."
   ]
  },
  {
   "cell_type": "markdown",
   "metadata": {
    "collapsed": true
   },
   "source": [
    "## 1. Find the 10 countries with most projects"
   ]
  },
  {
   "cell_type": "code",
   "execution_count": 9,
   "metadata": {},
   "outputs": [],
   "source": [
    "world_bank = pd.read_json('data/world_bank_projects.json')"
   ]
  },
  {
   "cell_type": "markdown",
   "metadata": {},
   "source": [
    "Extract only country fields.  It's not necessary to do this, but I did it for data exploration purposes"
   ]
  },
  {
   "cell_type": "code",
   "execution_count": 10,
   "metadata": {},
   "outputs": [],
   "source": [
    "data = world_bank[['country_namecode','countrycode','countryname','countryshortname']]"
   ]
  },
  {
   "cell_type": "code",
   "execution_count": 11,
   "metadata": {},
   "outputs": [
    {
     "name": "stdout",
     "output_type": "stream",
     "text": [
      "                               country_namecode countrycode  \\\n",
      "0  Federal Democratic Republic of Ethiopia!$!ET          ET   \n",
      "1                      Republic of Tunisia!$!TN          TN   \n",
      "2                                   Tuvalu!$!TV          TV   \n",
      "3                        Republic of Yemen!$!RY          RY   \n",
      "4                       Kingdom of Lesotho!$!LS          LS   \n",
      "\n",
      "                               countryname    countryshortname  \n",
      "0  Federal Democratic Republic of Ethiopia            Ethiopia  \n",
      "1                      Republic of Tunisia             Tunisia  \n",
      "2                                   Tuvalu              Tuvalu  \n",
      "3                        Republic of Yemen  Yemen, Republic of  \n",
      "4                       Kingdom of Lesotho             Lesotho  \n"
     ]
    }
   ],
   "source": [
    "print(data.head())"
   ]
  },
  {
   "cell_type": "code",
   "execution_count": 12,
   "metadata": {},
   "outputs": [],
   "source": [
    "top10_countries_by_project = data.groupby('countryname')['countryname'].agg('count').sort_values(ascending=False).head(10)"
   ]
  },
  {
   "cell_type": "markdown",
   "metadata": {},
   "source": [
    "Print the top 10 countries"
   ]
  },
  {
   "cell_type": "code",
   "execution_count": 13,
   "metadata": {},
   "outputs": [
    {
     "name": "stdout",
     "output_type": "stream",
     "text": [
      "countryname\n",
      "People's Republic of China         19\n",
      "Republic of Indonesia              19\n",
      "Socialist Republic of Vietnam      17\n",
      "Republic of India                  16\n",
      "Republic of Yemen                  13\n",
      "Nepal                              12\n",
      "People's Republic of Bangladesh    12\n",
      "Kingdom of Morocco                 12\n",
      "Africa                             11\n",
      "Republic of Mozambique             11\n",
      "Name: countryname, dtype: int64\n"
     ]
    }
   ],
   "source": [
    "print(top10_countries_by_project)"
   ]
  },
  {
   "cell_type": "markdown",
   "metadata": {},
   "source": [
    "## 2.Find the top 10 major project themes (using column 'mjtheme_namecode')"
   ]
  },
  {
   "cell_type": "markdown",
   "metadata": {},
   "source": [
    "  From the examples above, the mjtheme_namecode column is a list of dictionary values:"
   ]
  },
  {
   "cell_type": "code",
   "execution_count": 14,
   "metadata": {},
   "outputs": [
    {
     "name": "stdout",
     "output_type": "stream",
     "text": [
      "[{'code': '8', 'name': 'Human development'}, {'code': '11', 'name': ''}]\n"
     ]
    }
   ],
   "source": [
    "print(world_bank.iloc[0]['mjtheme_namecode'])"
   ]
  },
  {
   "cell_type": "markdown",
   "metadata": {},
   "source": [
    "Import JSON as list, in order to use json_normalize() function"
   ]
  },
  {
   "cell_type": "code",
   "execution_count": 15,
   "metadata": {},
   "outputs": [],
   "source": [
    "jstring = json.load((open('data/world_bank_projects.json')))"
   ]
  },
  {
   "cell_type": "code",
   "execution_count": null,
   "metadata": {},
   "outputs": [],
   "source": []
  },
  {
   "cell_type": "markdown",
   "metadata": {},
   "source": [
    "Normalize the major themes in order to easily count them"
   ]
  },
  {
   "cell_type": "code",
   "execution_count": 16,
   "metadata": {},
   "outputs": [],
   "source": [
    "major_themes = json_normalize(jstring,'mjtheme_namecode',['_id'])"
   ]
  },
  {
   "cell_type": "markdown",
   "metadata": {},
   "source": [
    "There are multiple 'major' themes per project, and also the same code value exists with and with a name; Next will check for duplicates within project."
   ]
  },
  {
   "cell_type": "code",
   "execution_count": 17,
   "metadata": {
    "scrolled": true
   },
   "outputs": [
    {
     "name": "stdout",
     "output_type": "stream",
     "text": [
      "   code                                          name  \\\n",
      "0     8                             Human development   \n",
      "1    11                                                 \n",
      "2     1                           Economic management   \n",
      "3     6         Social protection and risk management   \n",
      "4     5                         Trade and integration   \n",
      "5     2                      Public sector governance   \n",
      "6    11  Environment and natural resources management   \n",
      "7     6         Social protection and risk management   \n",
      "8     7                   Social dev/gender/inclusion   \n",
      "9     7                   Social dev/gender/inclusion   \n",
      "10    5                         Trade and integration   \n",
      "11    4      Financial and private sector development   \n",
      "12    6         Social protection and risk management   \n",
      "13    6                                                 \n",
      "14    2                      Public sector governance   \n",
      "15    4      Financial and private sector development   \n",
      "16   11  Environment and natural resources management   \n",
      "17    8                                                 \n",
      "18   10                             Rural development   \n",
      "19    7                                                 \n",
      "20    2                      Public sector governance   \n",
      "21    2                      Public sector governance   \n",
      "\n",
      "                                     _id  \n",
      "0   {'$oid': '52b213b38594d8a2be17c780'}  \n",
      "1   {'$oid': '52b213b38594d8a2be17c780'}  \n",
      "2   {'$oid': '52b213b38594d8a2be17c781'}  \n",
      "3   {'$oid': '52b213b38594d8a2be17c781'}  \n",
      "4   {'$oid': '52b213b38594d8a2be17c782'}  \n",
      "5   {'$oid': '52b213b38594d8a2be17c782'}  \n",
      "6   {'$oid': '52b213b38594d8a2be17c782'}  \n",
      "7   {'$oid': '52b213b38594d8a2be17c782'}  \n",
      "8   {'$oid': '52b213b38594d8a2be17c783'}  \n",
      "9   {'$oid': '52b213b38594d8a2be17c783'}  \n",
      "10  {'$oid': '52b213b38594d8a2be17c784'}  \n",
      "11  {'$oid': '52b213b38594d8a2be17c784'}  \n",
      "12  {'$oid': '52b213b38594d8a2be17c785'}  \n",
      "13  {'$oid': '52b213b38594d8a2be17c785'}  \n",
      "14  {'$oid': '52b213b38594d8a2be17c786'}  \n",
      "15  {'$oid': '52b213b38594d8a2be17c786'}  \n",
      "16  {'$oid': '52b213b38594d8a2be17c787'}  \n",
      "17  {'$oid': '52b213b38594d8a2be17c787'}  \n",
      "18  {'$oid': '52b213b38594d8a2be17c788'}  \n",
      "19  {'$oid': '52b213b38594d8a2be17c788'}  \n",
      "20  {'$oid': '52b213b38594d8a2be17c789'}  \n",
      "21  {'$oid': '52b213b38594d8a2be17c789'}  \n"
     ]
    }
   ],
   "source": [
    "print(major_themes.head(22))"
   ]
  },
  {
   "cell_type": "markdown",
   "metadata": {},
   "source": [
    "Extract id information from dictionary in order to identify duplicates"
   ]
  },
  {
   "cell_type": "code",
   "execution_count": 18,
   "metadata": {},
   "outputs": [],
   "source": [
    "major_themes['id'] = major_themes['_id'].apply(lambda x: x.get('$oid'))"
   ]
  },
  {
   "cell_type": "code",
   "execution_count": 19,
   "metadata": {},
   "outputs": [],
   "source": [
    "del major_themes['_id']"
   ]
  },
  {
   "cell_type": "markdown",
   "metadata": {},
   "source": [
    "Duplicates exist, so drop them and extract only the codes"
   ]
  },
  {
   "cell_type": "code",
   "execution_count": 20,
   "metadata": {},
   "outputs": [
    {
     "name": "stdout",
     "output_type": "stream",
     "text": [
      "False\n"
     ]
    }
   ],
   "source": [
    "print(len(major_themes[['code','id']].drop_duplicates()) == len(major_themes))"
   ]
  },
  {
   "cell_type": "code",
   "execution_count": 21,
   "metadata": {},
   "outputs": [],
   "source": [
    "major_themes_codes = major_themes[['code','id']].drop_duplicates()"
   ]
  },
  {
   "cell_type": "code",
   "execution_count": 22,
   "metadata": {},
   "outputs": [
    {
     "data": {
      "text/html": [
       "<div>\n",
       "<style scoped>\n",
       "    .dataframe tbody tr th:only-of-type {\n",
       "        vertical-align: middle;\n",
       "    }\n",
       "\n",
       "    .dataframe tbody tr th {\n",
       "        vertical-align: top;\n",
       "    }\n",
       "\n",
       "    .dataframe thead th {\n",
       "        text-align: right;\n",
       "    }\n",
       "</style>\n",
       "<table border=\"1\" class=\"dataframe\">\n",
       "  <thead>\n",
       "    <tr style=\"text-align: right;\">\n",
       "      <th></th>\n",
       "      <th>code</th>\n",
       "      <th>id</th>\n",
       "    </tr>\n",
       "  </thead>\n",
       "  <tbody>\n",
       "    <tr>\n",
       "      <td>0</td>\n",
       "      <td>8</td>\n",
       "      <td>52b213b38594d8a2be17c780</td>\n",
       "    </tr>\n",
       "    <tr>\n",
       "      <td>1</td>\n",
       "      <td>11</td>\n",
       "      <td>52b213b38594d8a2be17c780</td>\n",
       "    </tr>\n",
       "    <tr>\n",
       "      <td>2</td>\n",
       "      <td>1</td>\n",
       "      <td>52b213b38594d8a2be17c781</td>\n",
       "    </tr>\n",
       "    <tr>\n",
       "      <td>3</td>\n",
       "      <td>6</td>\n",
       "      <td>52b213b38594d8a2be17c781</td>\n",
       "    </tr>\n",
       "    <tr>\n",
       "      <td>4</td>\n",
       "      <td>5</td>\n",
       "      <td>52b213b38594d8a2be17c782</td>\n",
       "    </tr>\n",
       "    <tr>\n",
       "      <td>5</td>\n",
       "      <td>2</td>\n",
       "      <td>52b213b38594d8a2be17c782</td>\n",
       "    </tr>\n",
       "    <tr>\n",
       "      <td>6</td>\n",
       "      <td>11</td>\n",
       "      <td>52b213b38594d8a2be17c782</td>\n",
       "    </tr>\n",
       "    <tr>\n",
       "      <td>7</td>\n",
       "      <td>6</td>\n",
       "      <td>52b213b38594d8a2be17c782</td>\n",
       "    </tr>\n",
       "    <tr>\n",
       "      <td>8</td>\n",
       "      <td>7</td>\n",
       "      <td>52b213b38594d8a2be17c783</td>\n",
       "    </tr>\n",
       "    <tr>\n",
       "      <td>10</td>\n",
       "      <td>5</td>\n",
       "      <td>52b213b38594d8a2be17c784</td>\n",
       "    </tr>\n",
       "    <tr>\n",
       "      <td>11</td>\n",
       "      <td>4</td>\n",
       "      <td>52b213b38594d8a2be17c784</td>\n",
       "    </tr>\n",
       "    <tr>\n",
       "      <td>12</td>\n",
       "      <td>6</td>\n",
       "      <td>52b213b38594d8a2be17c785</td>\n",
       "    </tr>\n",
       "    <tr>\n",
       "      <td>14</td>\n",
       "      <td>2</td>\n",
       "      <td>52b213b38594d8a2be17c786</td>\n",
       "    </tr>\n",
       "    <tr>\n",
       "      <td>15</td>\n",
       "      <td>4</td>\n",
       "      <td>52b213b38594d8a2be17c786</td>\n",
       "    </tr>\n",
       "    <tr>\n",
       "      <td>16</td>\n",
       "      <td>11</td>\n",
       "      <td>52b213b38594d8a2be17c787</td>\n",
       "    </tr>\n",
       "    <tr>\n",
       "      <td>17</td>\n",
       "      <td>8</td>\n",
       "      <td>52b213b38594d8a2be17c787</td>\n",
       "    </tr>\n",
       "    <tr>\n",
       "      <td>18</td>\n",
       "      <td>10</td>\n",
       "      <td>52b213b38594d8a2be17c788</td>\n",
       "    </tr>\n",
       "    <tr>\n",
       "      <td>19</td>\n",
       "      <td>7</td>\n",
       "      <td>52b213b38594d8a2be17c788</td>\n",
       "    </tr>\n",
       "    <tr>\n",
       "      <td>20</td>\n",
       "      <td>2</td>\n",
       "      <td>52b213b38594d8a2be17c789</td>\n",
       "    </tr>\n",
       "    <tr>\n",
       "      <td>23</td>\n",
       "      <td>10</td>\n",
       "      <td>52b213b38594d8a2be17c78a</td>\n",
       "    </tr>\n",
       "    <tr>\n",
       "      <td>24</td>\n",
       "      <td>2</td>\n",
       "      <td>52b213b38594d8a2be17c78a</td>\n",
       "    </tr>\n",
       "    <tr>\n",
       "      <td>25</td>\n",
       "      <td>10</td>\n",
       "      <td>52b213b38594d8a2be17c78b</td>\n",
       "    </tr>\n",
       "  </tbody>\n",
       "</table>\n",
       "</div>"
      ],
      "text/plain": [
       "   code                        id\n",
       "0     8  52b213b38594d8a2be17c780\n",
       "1    11  52b213b38594d8a2be17c780\n",
       "2     1  52b213b38594d8a2be17c781\n",
       "3     6  52b213b38594d8a2be17c781\n",
       "4     5  52b213b38594d8a2be17c782\n",
       "5     2  52b213b38594d8a2be17c782\n",
       "6    11  52b213b38594d8a2be17c782\n",
       "7     6  52b213b38594d8a2be17c782\n",
       "8     7  52b213b38594d8a2be17c783\n",
       "10    5  52b213b38594d8a2be17c784\n",
       "11    4  52b213b38594d8a2be17c784\n",
       "12    6  52b213b38594d8a2be17c785\n",
       "14    2  52b213b38594d8a2be17c786\n",
       "15    4  52b213b38594d8a2be17c786\n",
       "16   11  52b213b38594d8a2be17c787\n",
       "17    8  52b213b38594d8a2be17c787\n",
       "18   10  52b213b38594d8a2be17c788\n",
       "19    7  52b213b38594d8a2be17c788\n",
       "20    2  52b213b38594d8a2be17c789\n",
       "23   10  52b213b38594d8a2be17c78a\n",
       "24    2  52b213b38594d8a2be17c78a\n",
       "25   10  52b213b38594d8a2be17c78b"
      ]
     },
     "execution_count": 22,
     "metadata": {},
     "output_type": "execute_result"
    }
   ],
   "source": [
    "major_themes_codes.head(22)"
   ]
  },
  {
   "cell_type": "markdown",
   "metadata": {},
   "source": [
    "Since there are missing name values, we count the codes and print the final results"
   ]
  },
  {
   "cell_type": "code",
   "execution_count": 23,
   "metadata": {},
   "outputs": [],
   "source": [
    "major_theme_counts = major_themes_codes.groupby(['code'])['code'].count().sort_values(ascending=False).head(10)"
   ]
  },
  {
   "cell_type": "code",
   "execution_count": 24,
   "metadata": {},
   "outputs": [
    {
     "name": "stdout",
     "output_type": "stream",
     "text": [
      "code\n",
      "11    157\n",
      "10    148\n",
      "2     140\n",
      "8     128\n",
      "4     119\n",
      "6     116\n",
      "7     114\n",
      "5      61\n",
      "9      40\n",
      "1      33\n",
      "Name: code, dtype: int64\n"
     ]
    }
   ],
   "source": [
    "print(major_theme_counts)"
   ]
  },
  {
   "cell_type": "markdown",
   "metadata": {},
   "source": [
    "## 3. In 2. above you will notice that some entries have only the code and the name is missing. Create a dataframe with the missing names filled in."
   ]
  },
  {
   "cell_type": "markdown",
   "metadata": {},
   "source": [
    "From the major_themes dataframe from the last step, generate a dictionary of unique, non-blank code/name pairs."
   ]
  },
  {
   "cell_type": "code",
   "execution_count": 25,
   "metadata": {},
   "outputs": [
    {
     "name": "stdout",
     "output_type": "stream",
     "text": [
      "     code                                      name                        id\n",
      "0       8                         Human development  52b213b38594d8a2be17c780\n",
      "1      11                                            52b213b38594d8a2be17c780\n",
      "2       1                       Economic management  52b213b38594d8a2be17c781\n",
      "3       6     Social protection and risk management  52b213b38594d8a2be17c781\n",
      "4       5                     Trade and integration  52b213b38594d8a2be17c782\n",
      "...   ...                                       ...                       ...\n",
      "1494   10                         Rural development  52b213b38594d8a2be17c972\n",
      "1495    9                         Urban development  52b213b38594d8a2be17c973\n",
      "1496    8                         Human development  52b213b38594d8a2be17c973\n",
      "1497    5                     Trade and integration  52b213b38594d8a2be17c973\n",
      "1498    4  Financial and private sector development  52b213b38594d8a2be17c973\n",
      "\n",
      "[1499 rows x 3 columns]\n"
     ]
    }
   ],
   "source": [
    "print(major_themes)"
   ]
  },
  {
   "cell_type": "code",
   "execution_count": 26,
   "metadata": {},
   "outputs": [],
   "source": [
    "theme_codes = major_themes[['code', 'name']].drop_duplicates()\n",
    "theme_codes = theme_codes.loc[theme_codes.name != \"\"]\n",
    "theme_dict = theme_codes.set_index('code')['name'].to_dict()"
   ]
  },
  {
   "cell_type": "code",
   "execution_count": 27,
   "metadata": {},
   "outputs": [
    {
     "name": "stdout",
     "output_type": "stream",
     "text": [
      "{'8': 'Human development', '1': 'Economic management', '6': 'Social protection and risk management', '5': 'Trade and integration', '2': 'Public sector governance', '11': 'Environment and natural resources management', '7': 'Social dev/gender/inclusion', '4': 'Financial and private sector development', '10': 'Rural development', '9': 'Urban development', '3': 'Rule of law'}\n"
     ]
    }
   ],
   "source": [
    "print(theme_dict)"
   ]
  },
  {
   "cell_type": "markdown",
   "metadata": {},
   "source": [
    "Update copy of Original dataframe, world_bank_copy: loop through the dataframe, and update the mjtheme_namecode, which is a list of dictionary name/code pairs\n",
    "\n",
    "\n",
    " "
   ]
  },
  {
   "cell_type": "code",
   "execution_count": 28,
   "metadata": {},
   "outputs": [],
   "source": [
    "world_bank = pd.read_json('data/world_bank_projects.json')\n",
    "world_bank_copy = world_bank.copy(deep=True)\n"
   ]
  },
  {
   "cell_type": "code",
   "execution_count": 29,
   "metadata": {},
   "outputs": [],
   "source": [
    "for i in range (len(world_bank_copy)  ):\n",
    "    \n",
    "\n",
    "    list =  (world_bank_copy.iloc[i].mjtheme_namecode)\n",
    "    index = -1\n",
    "    # loop over list of name/code dict pairs\n",
    "    for x in list:\n",
    "        index += 1\n",
    "\n",
    "        for key, value in x.items():\n",
    "            if key == 'code':\n",
    "                code = value\n",
    "            if ( key == 'name' and (len(value) == 0  )):\n",
    "                world_bank_copy.iloc[i].mjtheme_namecode[index]['name'] = theme_dict.get(code)\n",
    "                #print(i, index, ' has been updated')\n",
    "\n"
   ]
  },
  {
   "cell_type": "markdown",
   "metadata": {},
   "source": [
    "## 3b. OPTIONAL - verify the update worked\n",
    "\n",
    "\n",
    "\n",
    "\n",
    "        Export data back to JSON,  normalize mjthemes field, and compare counts to original\n"
   ]
  },
  {
   "cell_type": "code",
   "execution_count": 30,
   "metadata": {},
   "outputs": [],
   "source": [
    "path = 'data/verify.json'\n",
    "world_bank_copy.to_json(path, orient='records')\n",
    "verify_string = json.load((open(path)))\n",
    "#the url is unique per project:  (verification not shown here)\n",
    "verify_normalize = json_normalize(verify_string, 'mjtheme_namecode',['url'] ) \n",
    "#verify_normalize = verify_normalize.drop_duplicates()\n",
    "\n"
   ]
  },
  {
   "cell_type": "code",
   "execution_count": 31,
   "metadata": {},
   "outputs": [
    {
     "data": {
      "text/html": [
       "<div>\n",
       "<style scoped>\n",
       "    .dataframe tbody tr th:only-of-type {\n",
       "        vertical-align: middle;\n",
       "    }\n",
       "\n",
       "    .dataframe tbody tr th {\n",
       "        vertical-align: top;\n",
       "    }\n",
       "\n",
       "    .dataframe thead th {\n",
       "        text-align: right;\n",
       "    }\n",
       "</style>\n",
       "<table border=\"1\" class=\"dataframe\">\n",
       "  <thead>\n",
       "    <tr style=\"text-align: right;\">\n",
       "      <th></th>\n",
       "      <th>code</th>\n",
       "      <th>name</th>\n",
       "      <th>url</th>\n",
       "    </tr>\n",
       "  </thead>\n",
       "  <tbody>\n",
       "    <tr>\n",
       "      <td>0</td>\n",
       "      <td>8</td>\n",
       "      <td>Human development</td>\n",
       "      <td>http://www.worldbank.org/projects/P129828/ethi...</td>\n",
       "    </tr>\n",
       "    <tr>\n",
       "      <td>1</td>\n",
       "      <td>11</td>\n",
       "      <td>Environment and natural resources management</td>\n",
       "      <td>http://www.worldbank.org/projects/P129828/ethi...</td>\n",
       "    </tr>\n",
       "    <tr>\n",
       "      <td>2</td>\n",
       "      <td>1</td>\n",
       "      <td>Economic management</td>\n",
       "      <td>http://www.worldbank.org/projects/P144674?lang=en</td>\n",
       "    </tr>\n",
       "    <tr>\n",
       "      <td>3</td>\n",
       "      <td>6</td>\n",
       "      <td>Social protection and risk management</td>\n",
       "      <td>http://www.worldbank.org/projects/P144674?lang=en</td>\n",
       "    </tr>\n",
       "    <tr>\n",
       "      <td>4</td>\n",
       "      <td>5</td>\n",
       "      <td>Trade and integration</td>\n",
       "      <td>http://www.worldbank.org/projects/P145310?lang=en</td>\n",
       "    </tr>\n",
       "    <tr>\n",
       "      <td>...</td>\n",
       "      <td>...</td>\n",
       "      <td>...</td>\n",
       "      <td>...</td>\n",
       "    </tr>\n",
       "    <tr>\n",
       "      <td>1494</td>\n",
       "      <td>10</td>\n",
       "      <td>Rural development</td>\n",
       "      <td>http://www.worldbank.org/projects/P117243/sust...</td>\n",
       "    </tr>\n",
       "    <tr>\n",
       "      <td>1495</td>\n",
       "      <td>9</td>\n",
       "      <td>Urban development</td>\n",
       "      <td>http://www.worldbank.org/projects/P126321/keny...</td>\n",
       "    </tr>\n",
       "    <tr>\n",
       "      <td>1496</td>\n",
       "      <td>8</td>\n",
       "      <td>Human development</td>\n",
       "      <td>http://www.worldbank.org/projects/P126321/keny...</td>\n",
       "    </tr>\n",
       "    <tr>\n",
       "      <td>1497</td>\n",
       "      <td>5</td>\n",
       "      <td>Trade and integration</td>\n",
       "      <td>http://www.worldbank.org/projects/P126321/keny...</td>\n",
       "    </tr>\n",
       "    <tr>\n",
       "      <td>1498</td>\n",
       "      <td>4</td>\n",
       "      <td>Financial and private sector development</td>\n",
       "      <td>http://www.worldbank.org/projects/P126321/keny...</td>\n",
       "    </tr>\n",
       "  </tbody>\n",
       "</table>\n",
       "<p>1499 rows × 3 columns</p>\n",
       "</div>"
      ],
      "text/plain": [
       "     code                                          name  \\\n",
       "0       8                             Human development   \n",
       "1      11  Environment and natural resources management   \n",
       "2       1                           Economic management   \n",
       "3       6         Social protection and risk management   \n",
       "4       5                         Trade and integration   \n",
       "...   ...                                           ...   \n",
       "1494   10                             Rural development   \n",
       "1495    9                             Urban development   \n",
       "1496    8                             Human development   \n",
       "1497    5                         Trade and integration   \n",
       "1498    4      Financial and private sector development   \n",
       "\n",
       "                                                    url  \n",
       "0     http://www.worldbank.org/projects/P129828/ethi...  \n",
       "1     http://www.worldbank.org/projects/P129828/ethi...  \n",
       "2     http://www.worldbank.org/projects/P144674?lang=en  \n",
       "3     http://www.worldbank.org/projects/P144674?lang=en  \n",
       "4     http://www.worldbank.org/projects/P145310?lang=en  \n",
       "...                                                 ...  \n",
       "1494  http://www.worldbank.org/projects/P117243/sust...  \n",
       "1495  http://www.worldbank.org/projects/P126321/keny...  \n",
       "1496  http://www.worldbank.org/projects/P126321/keny...  \n",
       "1497  http://www.worldbank.org/projects/P126321/keny...  \n",
       "1498  http://www.worldbank.org/projects/P126321/keny...  \n",
       "\n",
       "[1499 rows x 3 columns]"
      ]
     },
     "execution_count": 31,
     "metadata": {},
     "output_type": "execute_result"
    }
   ],
   "source": [
    "verify_normalize"
   ]
  },
  {
   "cell_type": "code",
   "execution_count": 32,
   "metadata": {},
   "outputs": [
    {
     "data": {
      "text/html": [
       "<div>\n",
       "<style scoped>\n",
       "    .dataframe tbody tr th:only-of-type {\n",
       "        vertical-align: middle;\n",
       "    }\n",
       "\n",
       "    .dataframe tbody tr th {\n",
       "        vertical-align: top;\n",
       "    }\n",
       "\n",
       "    .dataframe thead th {\n",
       "        text-align: right;\n",
       "    }\n",
       "</style>\n",
       "<table border=\"1\" class=\"dataframe\">\n",
       "  <thead>\n",
       "    <tr style=\"text-align: right;\">\n",
       "      <th></th>\n",
       "      <th></th>\n",
       "      <th>url</th>\n",
       "    </tr>\n",
       "    <tr>\n",
       "      <th>code</th>\n",
       "      <th>name</th>\n",
       "      <th></th>\n",
       "    </tr>\n",
       "  </thead>\n",
       "  <tbody>\n",
       "    <tr>\n",
       "      <td>1</td>\n",
       "      <td>Economic management</td>\n",
       "      <td>38</td>\n",
       "    </tr>\n",
       "    <tr>\n",
       "      <td>10</td>\n",
       "      <td>Rural development</td>\n",
       "      <td>216</td>\n",
       "    </tr>\n",
       "    <tr>\n",
       "      <td>11</td>\n",
       "      <td>Environment and natural resources management</td>\n",
       "      <td>250</td>\n",
       "    </tr>\n",
       "    <tr>\n",
       "      <td>2</td>\n",
       "      <td>Public sector governance</td>\n",
       "      <td>199</td>\n",
       "    </tr>\n",
       "    <tr>\n",
       "      <td>3</td>\n",
       "      <td>Rule of law</td>\n",
       "      <td>15</td>\n",
       "    </tr>\n",
       "    <tr>\n",
       "      <td>4</td>\n",
       "      <td>Financial and private sector development</td>\n",
       "      <td>146</td>\n",
       "    </tr>\n",
       "    <tr>\n",
       "      <td>5</td>\n",
       "      <td>Trade and integration</td>\n",
       "      <td>77</td>\n",
       "    </tr>\n",
       "    <tr>\n",
       "      <td>6</td>\n",
       "      <td>Social protection and risk management</td>\n",
       "      <td>168</td>\n",
       "    </tr>\n",
       "    <tr>\n",
       "      <td>7</td>\n",
       "      <td>Social dev/gender/inclusion</td>\n",
       "      <td>130</td>\n",
       "    </tr>\n",
       "    <tr>\n",
       "      <td>8</td>\n",
       "      <td>Human development</td>\n",
       "      <td>210</td>\n",
       "    </tr>\n",
       "    <tr>\n",
       "      <td>9</td>\n",
       "      <td>Urban development</td>\n",
       "      <td>50</td>\n",
       "    </tr>\n",
       "  </tbody>\n",
       "</table>\n",
       "</div>"
      ],
      "text/plain": [
       "                                                   url\n",
       "code name                                             \n",
       "1    Economic management                            38\n",
       "10   Rural development                             216\n",
       "11   Environment and natural resources management  250\n",
       "2    Public sector governance                      199\n",
       "3    Rule of law                                    15\n",
       "4    Financial and private sector development      146\n",
       "5    Trade and integration                          77\n",
       "6    Social protection and risk management         168\n",
       "7    Social dev/gender/inclusion                   130\n",
       "8    Human development                             210\n",
       "9    Urban development                              50"
      ]
     },
     "execution_count": 32,
     "metadata": {},
     "output_type": "execute_result"
    }
   ],
   "source": [
    " \n",
    "\n",
    "verify_normalize.groupby(['code', 'name']).count()"
   ]
  },
  {
   "cell_type": "code",
   "execution_count": 35,
   "metadata": {},
   "outputs": [
    {
     "data": {
      "text/html": [
       "<div>\n",
       "<style scoped>\n",
       "    .dataframe tbody tr th:only-of-type {\n",
       "        vertical-align: middle;\n",
       "    }\n",
       "\n",
       "    .dataframe tbody tr th {\n",
       "        vertical-align: top;\n",
       "    }\n",
       "\n",
       "    .dataframe thead th {\n",
       "        text-align: right;\n",
       "    }\n",
       "</style>\n",
       "<table border=\"1\" class=\"dataframe\">\n",
       "  <thead>\n",
       "    <tr style=\"text-align: right;\">\n",
       "      <th></th>\n",
       "      <th></th>\n",
       "      <th>id</th>\n",
       "    </tr>\n",
       "    <tr>\n",
       "      <th>code</th>\n",
       "      <th>name</th>\n",
       "      <th></th>\n",
       "    </tr>\n",
       "  </thead>\n",
       "  <tbody>\n",
       "    <tr>\n",
       "      <td rowspan=\"2\" valign=\"top\">1</td>\n",
       "      <td></td>\n",
       "      <td>5</td>\n",
       "    </tr>\n",
       "    <tr>\n",
       "      <td>Economic management</td>\n",
       "      <td>33</td>\n",
       "    </tr>\n",
       "    <tr>\n",
       "      <td rowspan=\"2\" valign=\"top\">10</td>\n",
       "      <td></td>\n",
       "      <td>14</td>\n",
       "    </tr>\n",
       "    <tr>\n",
       "      <td>Rural development</td>\n",
       "      <td>202</td>\n",
       "    </tr>\n",
       "    <tr>\n",
       "      <td rowspan=\"2\" valign=\"top\">11</td>\n",
       "      <td></td>\n",
       "      <td>27</td>\n",
       "    </tr>\n",
       "    <tr>\n",
       "      <td>Environment and natural resources management</td>\n",
       "      <td>223</td>\n",
       "    </tr>\n",
       "    <tr>\n",
       "      <td rowspan=\"2\" valign=\"top\">2</td>\n",
       "      <td></td>\n",
       "      <td>15</td>\n",
       "    </tr>\n",
       "    <tr>\n",
       "      <td>Public sector governance</td>\n",
       "      <td>184</td>\n",
       "    </tr>\n",
       "    <tr>\n",
       "      <td rowspan=\"2\" valign=\"top\">3</td>\n",
       "      <td></td>\n",
       "      <td>3</td>\n",
       "    </tr>\n",
       "    <tr>\n",
       "      <td>Rule of law</td>\n",
       "      <td>12</td>\n",
       "    </tr>\n",
       "    <tr>\n",
       "      <td rowspan=\"2\" valign=\"top\">4</td>\n",
       "      <td></td>\n",
       "      <td>16</td>\n",
       "    </tr>\n",
       "    <tr>\n",
       "      <td>Financial and private sector development</td>\n",
       "      <td>130</td>\n",
       "    </tr>\n",
       "    <tr>\n",
       "      <td rowspan=\"2\" valign=\"top\">5</td>\n",
       "      <td></td>\n",
       "      <td>5</td>\n",
       "    </tr>\n",
       "    <tr>\n",
       "      <td>Trade and integration</td>\n",
       "      <td>72</td>\n",
       "    </tr>\n",
       "    <tr>\n",
       "      <td rowspan=\"2\" valign=\"top\">6</td>\n",
       "      <td></td>\n",
       "      <td>10</td>\n",
       "    </tr>\n",
       "    <tr>\n",
       "      <td>Social protection and risk management</td>\n",
       "      <td>158</td>\n",
       "    </tr>\n",
       "    <tr>\n",
       "      <td rowspan=\"2\" valign=\"top\">7</td>\n",
       "      <td></td>\n",
       "      <td>11</td>\n",
       "    </tr>\n",
       "    <tr>\n",
       "      <td>Social dev/gender/inclusion</td>\n",
       "      <td>119</td>\n",
       "    </tr>\n",
       "    <tr>\n",
       "      <td rowspan=\"2\" valign=\"top\">8</td>\n",
       "      <td></td>\n",
       "      <td>13</td>\n",
       "    </tr>\n",
       "    <tr>\n",
       "      <td>Human development</td>\n",
       "      <td>197</td>\n",
       "    </tr>\n",
       "    <tr>\n",
       "      <td rowspan=\"2\" valign=\"top\">9</td>\n",
       "      <td></td>\n",
       "      <td>3</td>\n",
       "    </tr>\n",
       "    <tr>\n",
       "      <td>Urban development</td>\n",
       "      <td>47</td>\n",
       "    </tr>\n",
       "  </tbody>\n",
       "</table>\n",
       "</div>"
      ],
      "text/plain": [
       "                                                    id\n",
       "code name                                             \n",
       "1                                                    5\n",
       "     Economic management                            33\n",
       "10                                                  14\n",
       "     Rural development                             202\n",
       "11                                                  27\n",
       "     Environment and natural resources management  223\n",
       "2                                                   15\n",
       "     Public sector governance                      184\n",
       "3                                                    3\n",
       "     Rule of law                                    12\n",
       "4                                                   16\n",
       "     Financial and private sector development      130\n",
       "5                                                    5\n",
       "     Trade and integration                          72\n",
       "6                                                   10\n",
       "     Social protection and risk management         158\n",
       "7                                                   11\n",
       "     Social dev/gender/inclusion                   119\n",
       "8                                                   13\n",
       "     Human development                             197\n",
       "9                                                    3\n",
       "     Urban development                              47"
      ]
     },
     "execution_count": 35,
     "metadata": {},
     "output_type": "execute_result"
    }
   ],
   "source": [
    "major_themes.groupby(['code','name']).count()"
   ]
  },
  {
   "cell_type": "code",
   "execution_count": 34,
   "metadata": {},
   "outputs": [
    {
     "data": {
      "text/plain": [
       "code\n",
       "1     True\n",
       "10    True\n",
       "11    True\n",
       "2     True\n",
       "3     True\n",
       "4     True\n",
       "5     True\n",
       "6     True\n",
       "7     True\n",
       "8     True\n",
       "9     True\n",
       "Name: code, dtype: bool"
      ]
     },
     "execution_count": 34,
     "metadata": {},
     "output_type": "execute_result"
    }
   ],
   "source": [
    "\n",
    "verify_normalize.groupby(['code'])['code'].count() == major_themes.groupby(['code'])['code'].count()"
   ]
  },
  {
   "cell_type": "code",
   "execution_count": null,
   "metadata": {},
   "outputs": [],
   "source": []
  },
  {
   "cell_type": "code",
   "execution_count": null,
   "metadata": {},
   "outputs": [],
   "source": []
  }
 ],
 "metadata": {
  "kernelspec": {
   "display_name": "Python 3",
   "language": "python",
   "name": "python3"
  },
  "language_info": {
   "codemirror_mode": {
    "name": "ipython",
    "version": 3
   },
   "file_extension": ".py",
   "mimetype": "text/x-python",
   "name": "python",
   "nbconvert_exporter": "python",
   "pygments_lexer": "ipython3",
   "version": "3.7.4"
  }
 },
 "nbformat": 4,
 "nbformat_minor": 1
}
